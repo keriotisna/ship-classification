{
 "cells": [
  {
   "cell_type": "code",
   "execution_count": 3,
   "metadata": {},
   "outputs": [
    {
     "name": "stdout",
     "output_type": "stream",
     "text": [
      "Path to dataset files: C:\\Users\\Nicholas\\.cache\\kagglehub\\datasets\\rhammell\\ships-in-satellite-imagery\\versions\\9\n"
     ]
    }
   ],
   "source": [
    "import kagglehub, pandas\n",
    "\n",
    "# Make sure API token is stored in .kaggle/kaggle.json\n",
    "\n",
    "# Download latest version\n",
    "path = kagglehub.dataset_download(\"rhammell/ships-in-satellite-imagery\")\n",
    "\n",
    "print(\"Path to dataset files:\", path)"
   ]
  }
 ],
 "metadata": {
  "kernelspec": {
   "display_name": "ComputerVision",
   "language": "python",
   "name": "python3"
  },
  "language_info": {
   "codemirror_mode": {
    "name": "ipython",
    "version": 3
   },
   "file_extension": ".py",
   "mimetype": "text/x-python",
   "name": "python",
   "nbconvert_exporter": "python",
   "pygments_lexer": "ipython3",
   "version": "3.12.6"
  }
 },
 "nbformat": 4,
 "nbformat_minor": 2
}
